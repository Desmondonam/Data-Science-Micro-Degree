{
 "cells": [
  {
   "cell_type": "code",
   "execution_count": 1,
   "id": "587ad511",
   "metadata": {},
   "outputs": [
    {
     "name": "stdout",
     "output_type": "stream",
     "text": [
      "Hello World.\n"
     ]
    }
   ],
   "source": [
    "print(\"Hello World.\")"
   ]
  },
  {
   "cell_type": "code",
   "execution_count": 2,
   "id": "eba04a42",
   "metadata": {},
   "outputs": [
    {
     "data": {
      "text/plain": [
       "200"
      ]
     },
     "execution_count": 2,
     "metadata": {},
     "output_type": "execute_result"
    }
   ],
   "source": [
    "100+100"
   ]
  },
  {
   "cell_type": "code",
   "execution_count": 3,
   "id": "4d6039b5",
   "metadata": {},
   "outputs": [
    {
     "data": {
      "text/plain": [
       "2"
      ]
     },
     "execution_count": 3,
     "metadata": {},
     "output_type": "execute_result"
    }
   ],
   "source": [
    "1+1"
   ]
  },
  {
   "cell_type": "code",
   "execution_count": 4,
   "id": "e0a1e4e8",
   "metadata": {},
   "outputs": [
    {
     "name": "stdout",
     "output_type": "stream",
     "text": [
      "Desmond\n"
     ]
    }
   ],
   "source": [
    "print(\"Desmond\")"
   ]
  },
  {
   "cell_type": "markdown",
   "id": "c1327f76",
   "metadata": {},
   "source": [
    "## Variable Declarations"
   ]
  },
  {
   "cell_type": "markdown",
   "id": "82bbaafb",
   "metadata": {},
   "source": [
    "string 'abc'"
   ]
  },
  {
   "cell_type": "code",
   "execution_count": 5,
   "id": "7fdb5149",
   "metadata": {},
   "outputs": [
    {
     "data": {
      "text/plain": [
       "'abc'"
      ]
     },
     "execution_count": 5,
     "metadata": {},
     "output_type": "execute_result"
    }
   ],
   "source": [
    "'abc'"
   ]
  },
  {
   "cell_type": "markdown",
   "id": "98cd7cbc",
   "metadata": {},
   "source": [
    "printing"
   ]
  },
  {
   "cell_type": "code",
   "execution_count": 7,
   "id": "e9893d70",
   "metadata": {},
   "outputs": [],
   "source": [
    "a= 'hello'"
   ]
  },
  {
   "cell_type": "code",
   "execution_count": 8,
   "id": "e4624d57",
   "metadata": {},
   "outputs": [
    {
     "data": {
      "text/plain": [
       "'hello'"
      ]
     },
     "execution_count": 8,
     "metadata": {},
     "output_type": "execute_result"
    }
   ],
   "source": [
    "a"
   ]
  },
  {
   "cell_type": "code",
   "execution_count": 9,
   "id": "4a4a36cd",
   "metadata": {},
   "outputs": [
    {
     "name": "stdout",
     "output_type": "stream",
     "text": [
      "hello\n"
     ]
    }
   ],
   "source": [
    "print(a)"
   ]
  },
  {
   "cell_type": "code",
   "execution_count": 11,
   "id": "8eeb1e7c",
   "metadata": {},
   "outputs": [],
   "source": [
    "name = \"Desmond Onam\"\n",
    "age = 40"
   ]
  },
  {
   "cell_type": "code",
   "execution_count": 12,
   "id": "fcec6d22",
   "metadata": {},
   "outputs": [
    {
     "name": "stdout",
     "output_type": "stream",
     "text": [
      "The age of Desmond Onam is 40\n"
     ]
    }
   ],
   "source": [
    "print(\"The age of {a} is {b}\".format(a=name,b=age))"
   ]
  },
  {
   "cell_type": "markdown",
   "id": "aae5106f",
   "metadata": {},
   "source": [
    "### String slicing"
   ]
  },
  {
   "cell_type": "code",
   "execution_count": 13,
   "id": "608224fe",
   "metadata": {},
   "outputs": [],
   "source": [
    "a = \"abcdefghijklmonp\"\n"
   ]
  },
  {
   "cell_type": "code",
   "execution_count": 14,
   "id": "096ccb78",
   "metadata": {},
   "outputs": [
    {
     "data": {
      "text/plain": [
       "'a'"
      ]
     },
     "execution_count": 14,
     "metadata": {},
     "output_type": "execute_result"
    }
   ],
   "source": [
    "a[0]"
   ]
  },
  {
   "cell_type": "code",
   "execution_count": 15,
   "id": "03007cac",
   "metadata": {},
   "outputs": [
    {
     "data": {
      "text/plain": [
       "'d'"
      ]
     },
     "execution_count": 15,
     "metadata": {},
     "output_type": "execute_result"
    }
   ],
   "source": [
    "a[3]"
   ]
  },
  {
   "cell_type": "code",
   "execution_count": 16,
   "id": "4414f0b5",
   "metadata": {},
   "outputs": [
    {
     "data": {
      "text/plain": [
       "'bcde'"
      ]
     },
     "execution_count": 16,
     "metadata": {},
     "output_type": "execute_result"
    }
   ],
   "source": [
    "a[1:5]"
   ]
  },
  {
   "cell_type": "code",
   "execution_count": 17,
   "id": "7f4fe48e",
   "metadata": {},
   "outputs": [
    {
     "data": {
      "text/plain": [
       "'abcdefghijklmonp'"
      ]
     },
     "execution_count": 17,
     "metadata": {},
     "output_type": "execute_result"
    }
   ],
   "source": [
    "a[:]"
   ]
  },
  {
   "cell_type": "code",
   "execution_count": null,
   "id": "1a291502",
   "metadata": {},
   "outputs": [],
   "source": []
  }
 ],
 "metadata": {
  "kernelspec": {
   "display_name": "Python 3 (ipykernel)",
   "language": "python",
   "name": "python3"
  },
  "language_info": {
   "codemirror_mode": {
    "name": "ipython",
    "version": 3
   },
   "file_extension": ".py",
   "mimetype": "text/x-python",
   "name": "python",
   "nbconvert_exporter": "python",
   "pygments_lexer": "ipython3",
   "version": "3.9.12"
  }
 },
 "nbformat": 4,
 "nbformat_minor": 5
}
